{
 "cells": [
  {
   "cell_type": "code",
   "execution_count": 1,
   "id": "c699c134-4575-4bac-ac6d-771e5ceed6d5",
   "metadata": {},
   "outputs": [
    {
     "name": "stdout",
     "output_type": "stream",
     "text": [
      "U Statistic: 4365.5\n",
      "P-Value: 0.4334204812223257\n",
      "The difference is not statistically significant.\n"
     ]
    }
   ],
   "source": [
    "import numpy as np\n",
    "from scipy.stats import mannwhitneyu\n",
    "\n",
    "# Data from the two columns\n",
    "column1 = [\n",
    "    3, 3, 5, 6, 5, 3, 1, 11, 1, 6, 6, 2, 5, 3, 1, 4, 1, 1, 4, 5, 3, 4, 6, 4, 8, 2, 4, 2, 7, 1, 10, 8, 7, 3, 1, 2, 8, 3, 7, 3, 1, 3, 4, 2, 6, 1, 9, 5, 2, 1, 6, 1, 4, 3, 6, 4, 4, 8, 7, 2, 1, 3, 1, 5, 4, 3, 5, 1, 1, 3, 5, 5, 5, 3, 5, 5, 3, 1, 3, 1, 7, 4, 1, 5, 6, 3, 2, 4, 4, 6, 2, 2, 6\n",
    "]\n",
    "column2 = [\n",
    "    3, 2, 1, 4, 8, 6, 5, 9, 11, 4, 2, 4, 4, 6, 7, 7, 2, 5, 4, 2, 1, 1, 2, 1, 5, 4, 1, 1, 3, 1, 4, 1, 11, 3, 2, 9, 3, 1, 2, 2, 5, 2, 3, 5, 1, 2, 2, 3, 2, 6, 4, 4, 5, 5, 8, 2, 2, 3, 5, 1, 4, 6, 1, 5, 3, 3, 4, 8, 2, 5, 1, 7, 5, 4, 3, 5, 2, 4, 1, 5, 4, 3, 2, 1, 3, 2, 2, 5\n",
    "]\n",
    "\n",
    "# Running the Mann-Whitney U test\n",
    "stat, p_value = mannwhitneyu(column1, column2, alternative='two-sided')\n",
    "\n",
    "# Print the results\n",
    "print(f\"U Statistic: {stat}\")\n",
    "print(f\"P-Value: {p_value}\")\n",
    "\n",
    "# Interpretation\n",
    "if p_value < 0.05:\n",
    "    print(\"The difference is statistically significant.\")\n",
    "else:\n",
    "    print(\"The difference is not statistically significant.\")"
   ]
  },
  {
   "cell_type": "code",
   "execution_count": 7,
   "id": "278fd155-2243-4eb9-a898-dd52fd05cdd5",
   "metadata": {},
   "outputs": [
    {
     "name": "stdout",
     "output_type": "stream",
     "text": [
      "U Statistic: 1360.0\n",
      "P-Value: 0.4452527704047804\n",
      "The difference is not statistically significant.\n"
     ]
    }
   ],
   "source": [
    "import numpy as np\n",
    "from scipy.stats import mannwhitneyu\n",
    "\n",
    "# Data from the two columns\n",
    "column1 = [\n",
    "   9, 7, 8, 4, 10, 11, 10, 2, 5, 9, 5, 5, 8, 6, 9, 11, 11, 6, 9, 5, 4, 11, 11, 11, 6, 3, 6, 7, 9, 7, 7, 6, 7, 9, 6, 8, 11, 6, 7, 5, 7, 6, 8, 6, 4, 8, 11, 8, 11, 11]\n",
    "column2 = [\n",
    "  1, 5, 3, 4, 11, 10, 10, 11, 5, 11, 11, 11, 7, 4, 6, 6, 7, 11, 11, 6, 7, 2, 5, 7, 7, 5, 4, 11, 5, 7, 5, 9, 10, 11, 6, 11, 9, 5, 4, 10, 3, 4, 11, 7, 11, 6, 11, 5, 6, 4\n",
    "]\n",
    "\n",
    "# Running the Mann-Whitney U test\n",
    "stat, p_value = mannwhitneyu(column1, column2, alternative='two-sided')\n",
    "\n",
    "# Print the results\n",
    "print(f\"U Statistic: {stat}\")\n",
    "print(f\"P-Value: {p_value}\")\n",
    "\n",
    "# Interpretation\n",
    "if p_value < 0.05:\n",
    "    print(\"The difference is statistically significant.\")\n",
    "else:\n",
    "    print(\"The difference is not statistically significant.\")"
   ]
  },
  {
   "cell_type": "code",
   "execution_count": 11,
   "id": "6ef23086-7d7d-4774-aa98-91869e7b1354",
   "metadata": {},
   "outputs": [
    {
     "name": "stdout",
     "output_type": "stream",
     "text": [
      "U Statistic: 1152.0\n",
      "P-Value: 0.49417565544630293\n",
      "The difference is not statistically significant.\n"
     ]
    }
   ],
   "source": [
    "import numpy as np\n",
    "from scipy.stats import mannwhitneyu\n",
    "\n",
    "# Data from the two columns\n",
    "column1 = [\n",
    "   9, 7, 8, 4, 10, 11, 10, 2, 5, 9, 5, 5, 8, 6, 9, 11, 11, 6, 9, 5, 4, 11, 11, 11, 6, 3, 6, 7, 9, 7, 7, 6, 7, 9, 6, 8, 11, 6, 7, 5, 7, 6, 8, 6, 4, 8, 11, 8, 11, 11]\n",
    "column2 = [\n",
    " 10, 5, 11, 11, 11, 11, 6, 5, 3, 7, 11, 7, 6, 6, 11, 4, 5, 11, 10, 11, 11, 7, 11, 11, 7, 3, 4, 11, 7, 11, 11, 11, 5, 7, 11, 8, 5, 11, 5, 5, 2, 11, 6, 11, 7, 5, 6, 10, 5, 10\n",
    "]\n",
    "\n",
    "# Running the Mann-Whitney U test\n",
    "stat, p_value = mannwhitneyu(column1, column2, alternative='two-sided')\n",
    "\n",
    "# Print the results\n",
    "print(f\"U Statistic: {stat}\")\n",
    "print(f\"P-Value: {p_value}\")\n",
    "\n",
    "# Interpretation\n",
    "if p_value < 0.05:\n",
    "    print(\"The difference is statistically significant.\")\n",
    "else:\n",
    "    print(\"The difference is not statistically significant.\")"
   ]
  },
  {
   "cell_type": "code",
   "execution_count": 13,
   "id": "a971f523-7d87-4951-aec8-3ae8c5521b59",
   "metadata": {},
   "outputs": [
    {
     "name": "stdout",
     "output_type": "stream",
     "text": [
      "U Statistic: 5266.0\n",
      "P-Value: 0.6860078078068025\n",
      "The difference is not statistically significant.\n"
     ]
    }
   ],
   "source": [
    "import numpy as np\n",
    "from scipy.stats import mannwhitneyu\n",
    "\n",
    "# Data from the two columns\n",
    "column1 = [\n",
    "  1, 5, 3, 4, 11, 10, 10, 11, 5, 11, 11, 11, 7, 4, 6, 6, 7, 11, 11, 6, 7, 2, 5, 7, 7, 9, 7, 8, 4, 10, 11, 10, 2, 5, 9, 5, 5, 8, 6, 9, 11, 11, 6, 9, 5, 4, 11, 11, 11, 6, 10, 5, 11, 11, 11, 11, 6, 5, 3, 7, 11, 7, 6, 6, 11, 4, 5, 11, 10, 11, 11, 7, 11, 11, 7, 11, 2, 4, 6, 11, 7, 11, 11, 7, 4, 7, 5, 11, 11, 5, 6, 4, 9, 6, 11, 11, 3, 10, 11, 7, 8]\n",
    "column2 = [\n",
    " 5, 4, 11, 5, 7, 5, 9, 10, 11, 6, 11, 9, 5, 4, 10, 3, 4, 11, 7, 11, 6, 11, 5, 6, 4, 3, 6, 7, 9, 7, 7, 6, 7, 9, 6, 8, 11, 6, 7, 5, 7, 6, 8, 6, 4, 8, 11, 8, 11, 11, 3, 4, 11, 7, 11, 11, 11, 5, 7, 11, 8, 5, 11, 5, 5, 2, 11, 6, 11, 7, 5, 6, 10, 5, 10, 2, 11, 10, 6, 11, 11, 9, 9, 6, 11, 11, 8, 11, 11, 4, 11, 7, 6, 11, 2, 8, 2, 11, 9, 6, 7.84\n",
    "]\n",
    "\n",
    "# Running the Mann-Whitney U test\n",
    "stat, p_value = mannwhitneyu(column1, column2, alternative='two-sided')\n",
    "\n",
    "# Print the results\n",
    "print(f\"U Statistic: {stat}\")\n",
    "print(f\"P-Value: {p_value}\")\n",
    "\n",
    "# Interpretation\n",
    "if p_value < 0.05:\n",
    "    print(\"The difference is statistically significant.\")\n",
    "else:\n",
    "    print(\"The difference is not statistically significant.\")"
   ]
  },
  {
   "cell_type": "code",
   "execution_count": 59,
   "id": "6203773b-875b-4a8c-8024-fab6a935ae4d",
   "metadata": {},
   "outputs": [
    {
     "name": "stdout",
     "output_type": "stream",
     "text": [
      "U Statistic: 1158.0\n",
      "P-Value: 0.5237146148230933\n",
      "The difference is not statistically significant.\n"
     ]
    }
   ],
   "source": [
    "import numpy as np\n",
    "from scipy.stats import mannwhitneyu\n",
    "\n",
    "# Data from the two columns\n",
    "column1 = [2, 4, 2, 7, 1, 10, 8, 7, 3, 1, 2, 8, 7, 3, 1, 3, 4, 2, 4, 8, 3, 1, 9, 5, 2, 4, 1, 1, 3, 1, 4, 1, 11, 3, 2, 9, 3, 1, 2, 2, 11, 2, 3, 3, 2, 6, 1, 5, 3, 5\n",
    "          ]\n",
    "column2 = [1, 6, 10, 7, 1, 4, 4, 8, 7, 2, 1, 3, 4, 1, 4, 2, 4, 1, 6, 4, 1, 1, 5, 4, 3, 4, 1, 2, 4, 6, 6, 9, 4, 5, 8, 2, 3, 1, 2, 8, 6, 3, 4, 5, 5, 1, 3, 4, 8, 2\n",
    "]\n",
    "\n",
    "# Running the Mann-Whitney U test\n",
    "stat, p_value = mannwhitneyu(column1, column2, alternative='two-sided')\n",
    "\n",
    "# Print the results\n",
    "print(f\"U Statistic: {stat}\")\n",
    "print(f\"P-Value: {p_value}\")\n",
    "\n",
    "# Interpretation\n",
    "if p_value < 0.05:\n",
    "    print(\"The difference is statistically significant.\")\n",
    "else:\n",
    "    print(\"The difference is not statistically significant.\")"
   ]
  },
  {
   "cell_type": "code",
   "execution_count": 79,
   "id": "23552301-f1e1-464c-8312-a50ed3a456ed",
   "metadata": {},
   "outputs": [
    {
     "name": "stdout",
     "output_type": "stream",
     "text": [
      "U Statistic: 5745.5\n",
      "P-Value: 0.06548404101661949\n",
      "The difference is not statistically significant.\n"
     ]
    }
   ],
   "source": [
    "import numpy as np\n",
    "from scipy.stats import mannwhitneyu\n",
    "\n",
    "# Data from the two columns\n",
    "column1 = [4, 11, 10, 8, 5, 11, 8, 11, 11, 3, 11, 3, 3, 5, 7, 5, 8, 11, 3, 11, 7, 4, 6, 8, 11, 4, 6, 3, 11, 7, 11, 4, 9, 3, 7, 11, 2, 11, 2, 11, 7, 11, 2, 3, 5, 11, 4, 5, 3, 6, 11, 4, 11, 11, 3, 11, 11, 4, 7, 6, 11, 2, 11, 11, 3, 2, 11, 3, 2, 7, 3, 4, 7, 4, 3, 6, 5, 3, 5, 3, 11, 9, 11, 4, 11, 10, 6, 2, 5, 8, 5, 5, 4, 5, 11, 6, 5, 6, 7, 5]\n",
    "column2 = [3, 8, 3, 4, 5, 4, 5, 4, 3, 2, 11, 7, 2, 4, 11, 5, 11, 6, 4, 2, 5, 6, 3, 3, 8, 4, 2, 5, 5, 11, 5, 3, 11, 3, 2, 11, 5, 4, 4, 5, 4, 4, 7, 2, 11, 3, 2, 6, 2, 4, 2, 5, 5, 7, 8, 7, 5, 3, 10, 3, 7, 4, 6, 11, 7, 10, 11, 11, 2, 2, 4, 5, 4, 3, 3, 5, 11, 8, 10, 6, 11, 8, 9, 3, 4, 5, 6, 4, 11, 11, 11, 3, 5, 4, 4, 11, 11, 6, 11, 4]\n",
    "\n",
    "# Running the Mann-Whitney U test\n",
    "stat, p_value = mannwhitneyu(column1, column2, alternative='two-sided')\n",
    "\n",
    "# Print the results\n",
    "print(f\"U Statistic: {stat}\")\n",
    "print(f\"P-Value: {p_value}\")\n",
    "\n",
    "# Interpretation\n",
    "if p_value < 0.05:\n",
    "    print(\"The difference is statistically significant.\")\n",
    "else:\n",
    "    print(\"The difference is not statistically significant.\")"
   ]
  },
  {
   "cell_type": "code",
   "execution_count": 85,
   "id": "e768e74c-5702-42a7-ac16-a4b49ae65ce4",
   "metadata": {},
   "outputs": [
    {
     "name": "stdout",
     "output_type": "stream",
     "text": [
      "U Statistic: 1048.0\n",
      "P-Value: 0.02907528106217103\n",
      "The difference is statistically significant.\n"
     ]
    }
   ],
   "source": [
    "import numpy as np\n",
    "from scipy.stats import mannwhitneyu\n",
    "\n",
    "# Data from the two columns\n",
    "column1 = [1, 11, 11, 11, 11, 11, 11, 11, 1, 11, 11, 11, 11, 11, 11, 11, 11, 11, 11, 11, 11, 11, 11, 11, 1, 1, 11, 11, 11, 11, 11, 11, 2, 11, 1, 11, 11, 1, 11, 11, 11, 2, 1, 11, 11, 1, 1, 11, 11, 1]\n",
    "column2 = [11, 11, 11, 11, 11, 11, 11, 11, 11, 11, 11, 11, 11, 11, 11, 11, 11, 11, 11, 11, 11, 11, 11, 1, 11, 11, 11, 11, 11, 11, 11, 11, 2, 11, 11, 11, 11, 1, 11, 11, 11, 11, 11, 1, 11, 11, 11, 11, 11, 11\n",
    "          ]\n",
    "\n",
    "# Running the Mann-Whitney U test\n",
    "stat, p_value = mannwhitneyu(column1, column2, alternative='two-sided')\n",
    "\n",
    "# Print the results\n",
    "print(f\"U Statistic: {stat}\")\n",
    "print(f\"P-Value: {p_value}\")\n",
    "\n",
    "# Interpretation\n",
    "if p_value < 0.05:\n",
    "    print(\"The difference is statistically significant.\")\n",
    "else:\n",
    "    print(\"The difference is not statistically significant.\")"
   ]
  },
  {
   "cell_type": "code",
   "execution_count": 138,
   "id": "04b80d83-c734-4e20-bfd8-c43830cc4446",
   "metadata": {},
   "outputs": [
    {
     "name": "stdout",
     "output_type": "stream",
     "text": [
      "U Statistic: 1232.0\n",
      "P-Value: 0.8714483953973877\n",
      "The difference is not statistically significant.\n"
     ]
    }
   ],
   "source": [
    "import numpy as np\n",
    "from scipy.stats import mannwhitneyu\n",
    "\n",
    "# Data from the two columns\n",
    "column1 = [1, 11, 11, 11, 11, 11, 11, 11, 1, 11, 11, 11, 11, 11, 11, 11, 11, 11, 11, 11, 11, 11, 11, 11, 1, 1, 11, 11, 11, 11, 11, 11, 2, 11, 1, 11, 11, 1, 11, 11, 11, 2, 1, 11, 11, 1, 1, 11, 11, 1]\n",
    "column2 = [11, 2, 11, 1, 11, 11, 11, 11, 11, 11, 11, 11, 11, 11, 11, 2, 11, 1, 11, 11, 11, 11, 2, 11, 11, 2, 2, 11, 11, 11, 11, 11, 11, 11, 11, 11, 11, 11, 1, 11, 11, 11, 1, 1, 11, 1, 11, 11, 11, 1]\n",
    "# Running the Mann-Whitney U test\n",
    "stat, p_value = mannwhitneyu(column1, column2, alternative='two-sided')\n",
    "\n",
    "# Print the results\n",
    "print(f\"U Statistic: {stat}\")\n",
    "print(f\"P-Value: {p_value}\")\n",
    "\n",
    "# Interpretation\n",
    "if p_value < 0.05:\n",
    "    print(\"The difference is statistically significant.\")\n",
    "else:\n",
    "    print(\"The difference is not statistically significant.\")"
   ]
  },
  {
   "cell_type": "code",
   "execution_count": 187,
   "id": "5c8b0696-08c4-482b-bd9e-04cff5bc75e1",
   "metadata": {},
   "outputs": [
    {
     "name": "stdout",
     "output_type": "stream",
     "text": [
      "U Statistic: 1538.0\n",
      "P-Value: 0.044717616801785855\n",
      "The difference is statistically significant.\n"
     ]
    }
   ],
   "source": [
    "import numpy as np\n",
    "from scipy.stats import mannwhitneyu\n",
    "\n",
    "# Data from the two columns\n",
    "column1 = [6, 8, 4, 11, 7, 4, 7, 6, 4, 9, 10, 6, 7, 3, 10, 7, 7, 10, 11, 11, 6, 9, 4, 11, 10, 6, 9, 8, 5, 7, 5, 6, 8, 5, 9, 4, 9, 7, 9, 7, 7, 4, 6, 6, 6, 5, 4, 7, 9, 7]\n",
    "column2 = [10, 6, 7, 5, 11, 5, 10, 4, 6, 5, 4, 4, 5, 6, 8, 6, 5, 6, 7, 4, 6, 4, 9, 6, 8, 10, 4, 10, 7, 5, 5, 6, 4, 7, 4, 5, 6, 7, 7, 4, 8, 6, 9, 5, 6, 5, 7, 5, 7, 6]\n",
    "# Running the Mann-Whitney U test\n",
    "stat, p_value = mannwhitneyu(column1, column2, alternative='two-sided')\n",
    "\n",
    "# Print the results\n",
    "print(f\"U Statistic: {stat}\")\n",
    "print(f\"P-Value: {p_value}\")\n",
    "\n",
    "# Interpretation\n",
    "if p_value < 0.05:\n",
    "    print(\"The difference is statistically significant.\")\n",
    "else:\n",
    "    print(\"The difference is not statistically significant.\")"
   ]
  },
  {
   "cell_type": "code",
   "execution_count": 288,
   "id": "930b2952-4301-4f2f-beba-b59e3b6f3b36",
   "metadata": {},
   "outputs": [
    {
     "name": "stdout",
     "output_type": "stream",
     "text": [
      "U Statistic: 5664.0\n",
      "P-Value: 0.014047724791632882\n",
      "The difference is statistically significant.\n"
     ]
    }
   ],
   "source": [
    "import numpy as np\n",
    "from scipy.stats import mannwhitneyu\n",
    "\n",
    "# Data from the two columns\n",
    "column1 = [1, 11, 11, 11, 11, 11, 11, 11, 11, 11, 11, 1, 11, 11, 11, 11, 11, 11, 11, 11, 11, 11, 11, 11, 11, 11, 11, 11, 11, 11, 11, 11, 11, 11, 11, 11, 11, 11, 11, 11, 11, 1, 11, 1, 11, 2, 11, 11, 11, 11, 11, 11, 11, 11, 11, 11, 11, 2, 11, 11, 11, 11, 11, 11, 11, 11, 11, 11, 2, 11, 11, 11, 1, 11, 11, 11, 1, 11, 11, 11, 11, 11, 1, 11, 1, 11, 11, 11, 11, 11, 11, 11, 11, 11, 11, 11, 11, 11, 11, 11]\n",
    "column2 = [1, 11, 11, 11, 11, 11, 11, 1, 11, 11, 11, 11, 11, 11, 11, 1, 1, 11, 11, 1, 11, 11, 11, 1, 11, 11, 11, 1, 11, 11, 1, 1, 11, 11, 11, 11, 11, 11, 2, 11, 11, 11, 11, 2, 11, 1, 11, 2, 11, 11, 11, 11, 11, 1, 2, 1, 11, 11, 11, 11, 11, 11, 11, 11, 11, 11, 11, 11, 11, 11, 11, 1, 11, 11, 11, 11, 11, 11, 11, 11, 11, 1, 1, 11, 11, 1, 11, 1, 11, 11, 11, 11, 11, 1, 11, 11, 11, 1, 11, 1]\n",
    "# Running the Mann-Whitney U test\n",
    "stat, p_value = mannwhitneyu(column1, column2, alternative='two-sided')\n",
    "\n",
    "# Print the results\n",
    "print(f\"U Statistic: {stat}\")\n",
    "print(f\"P-Value: {p_value}\")\n",
    "\n",
    "# Interpretation\n",
    "if p_value < 0.05:\n",
    "    print(\"The difference is statistically significant.\")\n",
    "else:\n",
    "    print(\"The difference is not statistically significant.\")"
   ]
  },
  {
   "cell_type": "code",
   "execution_count": 330,
   "id": "7011de4d-1ab5-46db-a6fb-8720c9d5b1c1",
   "metadata": {},
   "outputs": [
    {
     "name": "stdout",
     "output_type": "stream",
     "text": [
      "U Statistic: 1494.5\n",
      "P-Value: 0.03133078782058217\n",
      "The difference is statistically significant.\n"
     ]
    }
   ],
   "source": [
    "import numpy as np\n",
    "from scipy.stats import mannwhitneyu\n",
    "\n",
    "# Data from the two columns\n",
    "column1 = [11, 11, 11, 11, 11, 11, 11, 11, 11, 3, 3, 11, 11, 11, 11, 11, 11, 11, 11, 11, 11, 11, 11, 11, 11, 11, 5, 11, 11, 11, 11, 11, 11, 11, 11, 11, 4, 7, 11, 5, 11, 6, 11, 11, 11, 11, 11, 7, 11, 10]\n",
    "column2 = [5, 11, 11, 3, 5, 11, 11, 11, 11, 5, 3, 2, 4, 6, 11, 11, 11, 11, 11, 11, 11, 11, 11, 4, 4, 11, 3, 11, 11, 11, 5, 11, 11, 8, 6, 9, 11, 11, 3, 11, 11, 11, 11, 11, 7, 11, 2, 11, 11, 11]\n",
    "# Running the Mann-Whitney U test\n",
    "stat, p_value = mannwhitneyu(column1, column2, alternative='two-sided')\n",
    "\n",
    "# Print the results\n",
    "print(f\"U Statistic: {stat}\")\n",
    "print(f\"P-Value: {p_value}\")\n",
    "\n",
    "# Interpretation\n",
    "if p_value < 0.05:\n",
    "    print(\"The difference is statistically significant.\")\n",
    "else:\n",
    "    print(\"The difference is not statistically significant.\")"
   ]
  },
  {
   "cell_type": "code",
   "execution_count": 389,
   "id": "4c044479-b399-4fa3-b4b9-090c60a3c09c",
   "metadata": {},
   "outputs": [
    {
     "name": "stdout",
     "output_type": "stream",
     "text": [
      "U Statistic: 1249.5\n",
      "P-Value: 1.0\n",
      "The difference is not statistically significant.\n"
     ]
    }
   ],
   "source": [
    "import numpy as np\n",
    "from scipy.stats import mannwhitneyu\n",
    "\n",
    "# Data from the two columns\n",
    "column1 = [1, 1, 1, 1, 1, 1, 1, 1, 1, 1, 1, 1, 1, 1, 1, 1, 1, 1, 1, 1, 1, 1, 1, 1, 1, 1, 2, 1, 1, 1, 1, 1, 1, 1, 1, 1, 1, 1, 1, 1, 1, 1, 1, 1, 1, 1, 1, 1, 1, 1]\n",
    "column2 = [1, 1, 1, 1, 1, 1, 1, 1, 1, 1, 1, 1, 1, 1, 1, 1, 1, 1, 1, 1, 1, 1, 1, 1, 1, 1, 1, 1, 1, 3, 1, 1, 1, 1, 1, 1, 1, 1, 1, 1, 1, 1, 1, 1, 1, 1, 1, 1, 1, 1]\n",
    "# Running the Mann-Whitney U test\n",
    "stat, p_value = mannwhitneyu(column1, column2, alternative='two-sided')\n",
    "\n",
    "# Print the results\n",
    "print(f\"U Statistic: {stat}\")\n",
    "print(f\"P-Value: {p_value}\")\n",
    "\n",
    "# Interpretation\n",
    "if p_value < 0.05:\n",
    "    print(\"The difference is statistically significant.\")\n",
    "else:\n",
    "    print(\"The difference is not statistically significant.\")"
   ]
  },
  {
   "cell_type": "code",
   "execution_count": 393,
   "id": "a68e0a18-bd97-4525-b3b7-c5763beffccf",
   "metadata": {},
   "outputs": [
    {
     "name": "stdout",
     "output_type": "stream",
     "text": [
      "                    p-value\n",
      "Black vs White     0.815702\n",
      "Black vs Hispanic  0.016437\n",
      "Black vs Asian     0.811797\n",
      "White vs Hispanic  0.029075\n",
      "White vs Asian     0.996367\n",
      "Hispanic vs Asian  0.021165\n"
     ]
    }
   ],
   "source": [
    "import numpy as np\n",
    "from scipy.stats import mannwhitneyu\n",
    "import itertools\n",
    "import pandas as pd\n",
    "\n",
    "# Your data lists\n",
    "black = [1, 11, 11, 11, 11, 11, 2, 1, 11, 1, 11, 11, 11, 11, 11, 11, 11, 11, 11, 11, 2, 1, 11, 11, 11, 1, 1, 1, 11, 11, 1, 11, 11, 1, 11, 11, 11, 11, 11, 1, 11, 11, 11, 11, 11, 11, 11, 1, 11, 11]\n",
    "white = [1, 11, 11, 11, 11, 11, 11, 11, 1, 11, 11, 11, 11, 11, 11, 11, 11, 11, 11, 11, 11, 11, 11, 11, 1, 1, 11, 11, 11, 11, 11, 11, 2, 11, 1, 11, 11, 1, 11, 11, 11, 2, 1, 11, 11, 1, 1, 11, 11, 1]\n",
    "hispanic = [11, 11, 11, 11, 11, 11, 11, 11, 11, 11, 11, 11, 11, 11, 11, 11, 11, 11, 11, 11, 11, 11, 11, 1, 11, 11, 11, 11, 11, 11, 11, 11, 2, 11, 11, 11, 11, 1, 11, 11, 11, 11, 11, 1, 11, 11, 11, 11, 11, 11]\n",
    "asian = [11, 2, 11, 1, 11, 11, 11, 11, 11, 11, 11, 11, 11, 11, 11, 2, 11, 1, 11, 11, 11, 4, 2, 11, 11, 2, 2, 11, 11, 11, 11, 11, 11, 11, 11, 11, 11, 11, 1, 11, 11, 11, 1, 1, 11, 1, 11, 11, 11, 1]\n",
    "\n",
    "# Dictionary of race names and their corresponding data lists\n",
    "races = {\n",
    "    \"Black\": black,\n",
    "    \"White\": white,\n",
    "    \"Hispanic\": hispanic,\n",
    "    \"Asian\": asian\n",
    "}\n",
    "\n",
    "# Function to perform Mann-Whitney U test\n",
    "def mann_whitney_test(group1, group2):\n",
    "    stat, p_value = mannwhitneyu(group1, group2, alternative='two-sided')\n",
    "    return p_value\n",
    "\n",
    "# Generate all possible pairs of races\n",
    "race_pairs = list(itertools.combinations(races.keys(), 2))\n",
    "\n",
    "# Perform Mann-Whitney U test for each pair and store results\n",
    "results = {}\n",
    "for pair in race_pairs:\n",
    "    race1, race2 = pair\n",
    "    p_value = mann_whitney_test(races[race1], races[race2])\n",
    "    results[f\"{race1} vs {race2}\"] = p_value\n",
    "\n",
    "# Create a DataFrame from the results\n",
    "df = pd.DataFrame.from_dict(results, orient='index', columns=['p-value'])\n",
    "\n",
    "# Display the results\n",
    "print(df)\n",
    "\n",
    "# Optionally, save to CSV\n",
    "df.to_csv('race_comparison_results.csv')\n"
   ]
  },
  {
   "cell_type": "code",
   "execution_count": 431,
   "id": "29d71d17-3812-42be-9aaa-ca5ab843e919",
   "metadata": {},
   "outputs": [
    {
     "name": "stdout",
     "output_type": "stream",
     "text": [
      "                    p-value\n",
      "Black vs White     0.482781\n",
      "Black vs Hispanic  0.757441\n",
      "Black vs Asian     0.321021\n",
      "White vs Hispanic  0.309812\n",
      "White vs Asian     0.094844\n",
      "Hispanic vs Asian  0.483721\n"
     ]
    }
   ],
   "source": [
    "import numpy as np\n",
    "from scipy.stats import mannwhitneyu\n",
    "import itertools\n",
    "import pandas as pd\n",
    "\n",
    "# Your data lists\n",
    "black = [11, 11, 7, 11, 11, 11, 11, 11, 11, 9, 11, 11, 11, 11, 11, 11, 8, 11, 11, 11, 11, 11, 11, 9, 11, 11, 11, 11, 11, 11, 10, 11, 11, 11, 8, 9, 11, 11, 10, 10, 11, 11, 11, 8, 7, 11, 8, 11, 11, 11]\n",
    "white = [11, 11, 11, 11, 9, 11, 8, 8, 11, 11, 9, 11, 11, 6, 11, 11, 11, 8, 11, 10, 4, 11, 11, 11, 11, 11, 10, 11, 11, 11, 11, 11, 11, 11, 11, 11, 11, 11, 11, 9, 9, 9, 11, 11, 11, 8, 5, 10, 11, 11]\n",
    "hispanic = [9, 11, 11, 11, 9, 11, 11, 10, 9, 11, 11, 11, 11, 11, 10, 11, 11, 11, 11, 7, 11, 11, 11, 11, 11, 11, 8, 10, 11, 8, 11, 11, 11, 11, 11, 11, 11, 8, 11, 11, 11, 11, 9, 11, 11, 11, 11, 11, 11, 11]\n",
    "asian = [11, 11, 11, 11, 11, 10, 11, 11, 11, 7, 11, 11, 10, 11, 11, 11, 11, 11, 11, 11, 11, 11, 11, 11, 11, 11, 11, 11, 11, 11, 11, 11, 11, 11, 11, 8, 11, 8, 11, 8, 9, 11, 11, 11, 11, 11, 9, 11, 11, 11]\n",
    "\n",
    "# Dictionary of race names and their corresponding data lists\n",
    "races = {\n",
    "    \"Black\": black,\n",
    "    \"White\": white,\n",
    "    \"Hispanic\": hispanic,\n",
    "    \"Asian\": asian\n",
    "}\n",
    "\n",
    "# Function to perform Mann-Whitney U test\n",
    "def mann_whitney_test(group1, group2):\n",
    "    stat, p_value = mannwhitneyu(group1, group2, alternative='two-sided')\n",
    "    return p_value\n",
    "\n",
    "# Generate all possible pairs of races\n",
    "race_pairs = list(itertools.combinations(races.keys(), 2))\n",
    "\n",
    "# Perform Mann-Whitney U test for each pair and store results\n",
    "results = {}\n",
    "for pair in race_pairs:\n",
    "    race1, race2 = pair\n",
    "    p_value = mann_whitney_test(races[race1], races[race2])\n",
    "    results[f\"{race1} vs {race2}\"] = p_value\n",
    "\n",
    "# Create a DataFrame from the results\n",
    "df = pd.DataFrame.from_dict(results, orient='index', columns=['p-value'])\n",
    "\n",
    "# Display the results\n",
    "print(df)\n",
    "\n",
    "# Optionally, save to CSV\n",
    "df.to_csv('race_comparison_results.csv')\n"
   ]
  },
  {
   "cell_type": "code",
   "execution_count": 411,
   "id": "6e4b1f04-18a5-4a08-8a92-c366bdd425a5",
   "metadata": {},
   "outputs": [
    {
     "name": "stdout",
     "output_type": "stream",
     "text": [
      "6.28.0\n"
     ]
    }
   ],
   "source": [
    "import ipykernel\n",
    "print(ipykernel.__version__)\n"
   ]
  },
  {
   "cell_type": "code",
   "execution_count": 452,
   "id": "9f1bf1da-a2e5-45b2-8a1b-a96af7094ca6",
   "metadata": {},
   "outputs": [
    {
     "name": "stdout",
     "output_type": "stream",
     "text": [
      "U Statistic: 4810.5\n",
      "P-Value: 0.5307169294605452\n",
      "The difference is not statistically significant.\n"
     ]
    }
   ],
   "source": [
    "import numpy as np\n",
    "from scipy.stats import mannwhitneyu\n",
    "\n",
    "# Data from the two columns\n",
    "column1 = [11, 11, 11, 11, 11, 10, 11, 8, 11, 11, 11, 10, 11, 11, 11, 11, 11, 11, 11, 8, 10, 11, 11, 11, 11, 11, 11, 11, 11, 11, 11, 11, 11, 11, 11, 11, 8, 11, 11, 11, 9, 11, 8, 11, 11, 11, 11, 11, 11, 11, 8, 8, 10, 11, 11, 11, 10, 9, 8, 11, 11, 9, 9, 11, 11, 9, 11, 11, 11, 11, 11, 9, 8, 11, 11, 11, 7, 11, 11, 11, 11, 8, 11, 11, 8, 5, 9, 11, 11, 10, 11, 11, 11, 11, 11, 11, 11, 11, 11, 11]\n",
    "column2 = [11, 11, 11, 9, 11, 11, 11, 11, 7, 11, 11, 11, 11, 11, 11, 11, 11, 9, 11, 9, 11, 11, 10, 11, 11, 8, 11, 11, 11, 8, 11, 10, 11, 11, 11, 9, 9, 11, 7, 11, 11, 9, 11, 11, 11, 11, 11, 11, 11, 11, 10, 11, 11, 6, 11, 11, 11, 11, 11, 10, 11, 11, 11, 11, 8, 11, 11, 11, 11, 8, 11, 11, 11, 11, 11, 11, 11, 10, 11, 7, 11, 4, 11, 11, 11, 11, 11, 11, 11, 11, 11, 11, 9, 11, 11, 11, 11, 11, 11, 11]\n",
    "# Running the Mann-Whitney U test\n",
    "stat, p_value = mannwhitneyu(column1, column2, alternative='two-sided')\n",
    "\n",
    "# Print the results\n",
    "print(f\"U Statistic: {stat}\")\n",
    "print(f\"P-Value: {p_value}\")\n",
    "\n",
    "# Interpretation\n",
    "if p_value < 0.05:\n",
    "    print(\"The difference is statistically significant.\")\n",
    "else:\n",
    "    print(\"The difference is not statistically significant.\")"
   ]
  },
  {
   "cell_type": "code",
   "execution_count": 496,
   "id": "6a49ae50-aef7-475b-9fe5-8388bc53931b",
   "metadata": {},
   "outputs": [
    {
     "name": "stdout",
     "output_type": "stream",
     "text": [
      "                    p-value\n",
      "Black vs White     0.621185\n",
      "Black vs Hispanic  0.787285\n",
      "Black vs Asian     0.095624\n",
      "White vs Hispanic  0.749985\n",
      "White vs Asian     0.243156\n",
      "Hispanic vs Asian  0.136442\n"
     ]
    }
   ],
   "source": [
    "import numpy as np\n",
    "from scipy.stats import mannwhitneyu\n",
    "import itertools\n",
    "import pandas as pd\n",
    "\n",
    "# Your data lists\n",
    "black = [11, 11, 8, 11, 5, 9, 4, 11, 10, 11, 7, 8, 3, 10, 11, 11, 11, 11, 11, 11, 11, 7, 11, 11, 11, 9, 11, 11, 11, 3, 7, 3, 7, 10, 6, 9, 4, 11, 11, 11, 7, 11, 7, 11, 11, 3, 11, 5, 10, 6]\n",
    "white = [8, 11, 5, 3, 11, 11, 11, 2, 11, 7, 7, 11, 6, 11, 5, 4, 6, 6, 6, 7, 11, 11, 11, 3, 9, 5, 4, 11, 11, 11, 9, 9, 11, 11, 11, 8, 11, 8, 11, 7, 7, 10, 8, 11, 11, 8, 8, 11, 11, 11]\n",
    "hispanic = [10, 8, 11, 8, 7, 11, 11, 11, 5, 10, 11, 11, 11, 11, 11, 6, 11, 11, 11, 11, 11, 10, 9, 2, 8, 8, 10, 11, 10, 5, 5, 9, 4, 11, 11, 6, 11, 11, 11, 3, 5, 10, 9, 9, 7, 11, 9, 4, 11, 2]\n",
    "asian = [11, 7, 7, 9, 9, 2, 8, 4, 9, 2, 8, 2, 5, 6, 5, 5, 11, 6, 11, 5, 11, 11, 8, 11, 8, 5, 11, 9, 7, 11, 11, 11, 2, 11, 3, 10, 11, 9, 11, 3, 11, 7, 11, 9, 11, 11, 5, 5, 11, 5]\n",
    "\n",
    "# Dictionary of race names and their corresponding data lists\n",
    "races = {\n",
    "    \"Black\": black,\n",
    "    \"White\": white,\n",
    "    \"Hispanic\": hispanic,\n",
    "    \"Asian\": asian\n",
    "}\n",
    "\n",
    "# Function to perform Mann-Whitney U test\n",
    "def mann_whitney_test(group1, group2):\n",
    "    stat, p_value = mannwhitneyu(group1, group2, alternative='two-sided')\n",
    "    return p_value\n",
    "\n",
    "# Generate all possible pairs of races\n",
    "race_pairs = list(itertools.combinations(races.keys(), 2))\n",
    "\n",
    "# Perform Mann-Whitney U test for each pair and store results\n",
    "results = {}\n",
    "for pair in race_pairs:\n",
    "    race1, race2 = pair\n",
    "    p_value = mann_whitney_test(races[race1], races[race2])\n",
    "    results[f\"{race1} vs {race2}\"] = p_value\n",
    "\n",
    "# Create a DataFrame from the results\n",
    "df = pd.DataFrame.from_dict(results, orient='index', columns=['p-value'])\n",
    "\n",
    "# Display the results\n",
    "print(df)\n",
    "\n",
    "# Optionally, save to CSV\n",
    "df.to_csv('race_comparison_results.csv')\n"
   ]
  },
  {
   "cell_type": "code",
   "execution_count": 502,
   "id": "953b6200-d8f3-464c-8255-a366ec23d37f",
   "metadata": {},
   "outputs": [
    {
     "name": "stdout",
     "output_type": "stream",
     "text": [
      "U Statistic: 5005.5\n",
      "P-Value: 0.9897929237362062\n",
      "The difference is not statistically significant.\n"
     ]
    }
   ],
   "source": [
    "import numpy as np\n",
    "from scipy.stats import mannwhitneyu\n",
    "\n",
    "# Data from the two columns\n",
    "column1 = [9, 11, 11, 11, 3, 7, 3, 7, 10, 6, 9, 4, 11, 11, 11, 7, 11, 7, 11, 11, 3, 11, 5, 10, 6, 5, 4, 11, 11, 11, 9, 9, 11, 11, 11, 8, 11, 8, 11, 7, 7, 10, 8, 11, 11, 8, 8, 11, 11, 11, 8, 10, 11, 10, 5, 5, 9, 4, 11, 11, 6, 11, 11, 11, 3, 5, 10, 9, 9, 7, 11, 9, 4, 11, 2, 5, 11, 9, 7, 11, 11, 11, 2, 11, 3, 10, 11, 9, 11, 3, 11, 7, 11, 9, 11, 11, 5, 5, 11, 5]\n",
    "column2 = [11, 11, 8, 11, 5, 9, 4, 11, 10, 11, 7, 8, 3, 10, 11, 11, 11, 11, 11, 11, 11, 7, 11, 11, 11, 8, 11, 5, 3, 11, 11, 11, 2, 11, 7, 7, 11, 6, 11, 5, 4, 6, 6, 6, 7, 11, 11, 11, 3, 9, 10, 8, 11, 8, 7, 11, 11, 11, 5, 10, 11, 11, 11, 11, 11, 6, 11, 11, 11, 11, 11, 10, 9, 2, 8, 11, 7, 7, 9, 9, 2, 8, 4, 9, 2, 8, 2, 5, 6, 5, 5, 11, 6, 11, 5, 11, 11, 8, 11, 8]\n",
    "# Running the Mann-Whitney U test\n",
    "stat, p_value = mannwhitneyu(column1, column2, alternative='two-sided')\n",
    "\n",
    "# Print the results\n",
    "print(f\"U Statistic: {stat}\")\n",
    "print(f\"P-Value: {p_value}\")\n",
    "\n",
    "# Interpretation\n",
    "if p_value < 0.05:\n",
    "    print(\"The difference is statistically significant.\")\n",
    "else:\n",
    "    print(\"The difference is not statistically significant.\")"
   ]
  },
  {
   "cell_type": "code",
   "execution_count": 506,
   "id": "dfa71943-f79c-4450-a66e-d5a80dfaf81c",
   "metadata": {},
   "outputs": [
    {
     "name": "stdout",
     "output_type": "stream",
     "text": [
      "                    p-value\n",
      "Black vs White     0.815702\n",
      "Black vs Hispanic  0.006139\n",
      "Black vs Asian     0.811797\n",
      "White vs Hispanic  0.011394\n",
      "White vs Asian     0.996367\n",
      "Hispanic vs Asian  0.007684\n"
     ]
    }
   ],
   "source": [
    "import numpy as np\n",
    "from scipy.stats import mannwhitneyu\n",
    "import itertools\n",
    "import pandas as pd\n",
    "\n",
    "# Your data lists\n",
    "black = [1, 11, 11, 11, 11, 11, 2, 1, 11, 1, 11, 11, 11, 11, 11, 11, 11, 11, 11, 11, 2, 1, 11, 11, 11, 1, 1, 1, 11, 11, 1, 11, 11, 1, 11, 11, 11, 11, 11, 1, 11, 11, 11, 11, 11, 11, 11, 1, 11, 11]\n",
    "white = [1, 11, 11, 11, 11, 11, 11, 11, 1, 11, 11, 11, 11, 11, 11, 11, 11, 11, 11, 11, 11, 11, 11, 11, 1, 1, 11, 11, 11, 11, 11, 11, 2, 11, 1, 11, 11, 1, 11, 11, 11, 2, 1, 11, 11, 1, 1, 11, 11, 1]\n",
    "hispanic = [11, 11, 11, 11, 11, 11, 11, 11, 11, 11, 11, 11, 11, 11, 11, 11, 11, 11, 11, 11, 11, 11, 11, 11, 11, 11, 11, 11, 11, 11, 11, 11, 2, 11, 11, 11, 11, 1, 11, 11, 11, 11, 11, 1, 11, 11, 11, 11, 11, 11]\n",
    "asian = [11, 2, 11, 1, 11, 11, 11, 11, 11, 11, 11, 11, 11, 11, 11, 2, 11, 1, 11, 11, 11, 4, 2, 11, 11, 2, 2, 11, 11, 11, 11, 11, 11, 11, 11, 11, 11, 11, 1, 11, 11, 11, 1, 1, 11, 1, 11, 11, 11, 1]\n",
    "\n",
    "# Dictionary of race names and their corresponding data lists\n",
    "races = {\n",
    "    \"Black\": black,\n",
    "    \"White\": white,\n",
    "    \"Hispanic\": hispanic,\n",
    "    \"Asian\": asian\n",
    "}\n",
    "\n",
    "# Function to perform Mann-Whitney U test\n",
    "def mann_whitney_test(group1, group2):\n",
    "    stat, p_value = mannwhitneyu(group1, group2, alternative='two-sided')\n",
    "    return p_value\n",
    "\n",
    "# Generate all possible pairs of races\n",
    "race_pairs = list(itertools.combinations(races.keys(), 2))\n",
    "\n",
    "# Perform Mann-Whitney U test for each pair and store results\n",
    "results = {}\n",
    "for pair in race_pairs:\n",
    "    race1, race2 = pair\n",
    "    p_value = mann_whitney_test(races[race1], races[race2])\n",
    "    results[f\"{race1} vs {race2}\"] = p_value\n",
    "\n",
    "# Create a DataFrame from the results\n",
    "df = pd.DataFrame.from_dict(results, orient='index', columns=['p-value'])\n",
    "\n",
    "# Display the results\n",
    "print(df)\n",
    "\n",
    "# Optionally, save to CSV\n",
    "df.to_csv('race_comparison_results.csv')\n"
   ]
  },
  {
   "cell_type": "code",
   "execution_count": 508,
   "id": "82364935-88b1-4779-b4ef-34dbdce4c5de",
   "metadata": {},
   "outputs": [
    {
     "name": "stdout",
     "output_type": "stream",
     "text": [
      "1.13.1\n"
     ]
    }
   ],
   "source": [
    "import scipy\n",
    "print(scipy.__version__)\n"
   ]
  },
  {
   "cell_type": "code",
   "execution_count": 510,
   "id": "1aae5724-0edc-43fb-b568-1d7299521a44",
   "metadata": {},
   "outputs": [
    {
     "name": "stdout",
     "output_type": "stream",
     "text": [
      "                                 p-value\n",
      "Black Men vs Asian Men          0.324732\n",
      "Black Men vs Hispanic Men       0.034424\n",
      "Black Men vs White Men          0.422907\n",
      "Black Men vs White Women        0.653868\n",
      "Black Men vs Black Women        0.422907\n",
      "Black Men vs Asian Women        0.324732\n",
      "Black Men vs Hispanic Women     0.161513\n",
      "Asian Men vs Hispanic Men       0.168078\n",
      "Asian Men vs White Men          0.956750\n",
      "Asian Men vs White Women        0.618228\n",
      "Asian Men vs Black Women        0.956750\n",
      "Asian Men vs Asian Women        1.000000\n",
      "Asian Men vs Hispanic Women     0.626354\n",
      "Hispanic Men vs White Men       0.167489\n",
      "Hispanic Men vs White Women     0.077583\n",
      "Hispanic Men vs Black Women     0.167489\n",
      "Hispanic Men vs Asian Women     0.168078\n",
      "Hispanic Men vs Hispanic Women  0.368120\n",
      "White Men vs White Women        0.726339\n",
      "White Men vs Black Women        1.000000\n",
      "White Men vs Asian Women        0.956750\n",
      "White Men vs Hispanic Women     0.582778\n",
      "White Women vs Black Women      0.726339\n",
      "White Women vs Asian Women      0.618228\n",
      "White Women vs Hispanic Women   0.328972\n",
      "Black Women vs Asian Women      0.956750\n",
      "Black Women vs Hispanic Women   0.582778\n",
      "Asian Women vs Hispanic Women   0.626354\n"
     ]
    }
   ],
   "source": [
    "import numpy as np\n",
    "from scipy.stats import mannwhitneyu\n",
    "import itertools\n",
    "import pandas as pd\n",
    "\n",
    "# Your data lists (example data, replace with your actual data)\n",
    "black_men = [1, 11, 11, 11, 11, 11, 2, 1, 11, 1]\n",
    "asian_men = [11, 2, 11, 1, 11, 11, 11, 11, 11, 11]\n",
    "hispanic_men = [11, 11, 11, 11, 11, 11, 11, 11, 11, 11]\n",
    "white_men = [1, 11, 11, 11, 11, 11, 11, 11, 1, 11]\n",
    "white_women = [11, 11, 2, 11, 1, 11, 11, 1, 11, 11]\n",
    "black_women = [11, 11, 11, 1, 11, 11, 11, 11, 11, 1]\n",
    "asian_women = [2, 11, 11, 11, 11, 11, 1, 11, 11, 11]\n",
    "hispanic_women = [11, 1, 11, 11, 11, 11, 11, 11, 11, 11]\n",
    "\n",
    "# Dictionary of group names and their corresponding data lists\n",
    "groups = {\n",
    "    \"Black Men\": black_men,\n",
    "    \"Asian Men\": asian_men,\n",
    "    \"Hispanic Men\": hispanic_men,\n",
    "    \"White Men\": white_men,\n",
    "    \"White Women\": white_women,\n",
    "    \"Black Women\": black_women,\n",
    "    \"Asian Women\": asian_women,\n",
    "    \"Hispanic Women\": hispanic_women\n",
    "}\n",
    "\n",
    "# Function to perform Mann-Whitney U test\n",
    "def mann_whitney_test(group1, group2):\n",
    "    stat, p_value = mannwhitneyu(group1, group2, alternative='two-sided')\n",
    "    return p_value\n",
    "\n",
    "# Generate all possible pairs of groups\n",
    "group_pairs = list(itertools.combinations(groups.keys(), 2))\n",
    "\n",
    "# Perform Mann-Whitney U test for each pair and store results\n",
    "results = {}\n",
    "for pair in group_pairs:\n",
    "    group1, group2 = pair\n",
    "    p_value = mann_whitney_test(groups[group1], groups[group2])\n",
    "    results[f\"{group1} vs {group2}\"] = p_value\n",
    "\n",
    "# Create a DataFrame from the results\n",
    "df = pd.DataFrame.from_dict(results, orient='index', columns=['p-value'])\n",
    "\n",
    "# Display the results\n",
    "print(df)\n",
    "\n",
    "# Optionally, save to CSV\n",
    "df.to_csv('group_comparison_results.csv')\n"
   ]
  },
  {
   "cell_type": "code",
   "execution_count": 1,
   "id": "2b72eb4b-55ba-48d6-ae3f-052e7658b785",
   "metadata": {},
   "outputs": [
    {
     "name": "stdout",
     "output_type": "stream",
     "text": [
      "U Statistic: 1576.5\n",
      "P-Value: 0.002689021819349322\n",
      "The difference is statistically significant.\n"
     ]
    }
   ],
   "source": [
    "import numpy as np\n",
    "from scipy.stats import mannwhitneyu\n",
    "\n",
    "# Data from the two columns\n",
    "column1 = [\n",
    "    11, 11, 11, 11, 11, 11, 11, 11, 11, 11, 11, 11, 5, 11, 11, 11, 11, 11, 11, 9, 11, 11, 11, 11, 6, 11, 11, 11, 4, 11, 11, 11, 11, 8, 11, 11, 11, 11, 11, 11, 11, 6, 11, 11, 11, 11, 11, 11, 11, 11\n",
    "]\n",
    "column2 = [\n",
    "    5, 11, 11, 3, 5, 11, 11, 11, 11, 5, 3, 2, 4, 6, 11, 11, 11, 11, 11, 11, 11, 11, 11, 4, 4, 11, 3, 11, 11, 11, 5, 11, 11, 8, 6, 9, 11, 11, 3, 11, 11, 11, 11, 11, 7, 11, 2, 11, 11, 11\n",
    "]\n",
    "\n",
    "# Running the Mann-Whitney U test\n",
    "stat, p_value = mannwhitneyu(column1, column2, alternative='two-sided')\n",
    "\n",
    "# Print the results\n",
    "print(f\"U Statistic: {stat}\")\n",
    "print(f\"P-Value: {p_value}\")\n",
    "\n",
    "# Interpretation\n",
    "if p_value < 0.05:\n",
    "    print(\"The difference is statistically significant.\")\n",
    "else:\n",
    "    print(\"The difference is not statistically significant.\")"
   ]
  },
  {
   "cell_type": "code",
   "execution_count": 5,
   "id": "1dfccd39-5943-4c94-99a1-3050ccc2e541",
   "metadata": {},
   "outputs": [
    {
     "name": "stdout",
     "output_type": "stream",
     "text": [
      "                    p-value\n",
      "Black vs White     0.815702\n",
      "Black vs Hispanic  0.006139\n",
      "Black vs Asian     0.811797\n",
      "White vs Hispanic  0.011394\n",
      "White vs Asian     0.996367\n",
      "Hispanic vs Asian  0.007684\n"
     ]
    }
   ],
   "source": [
    "import numpy as np\n",
    "from scipy.stats import mannwhitneyu\n",
    "import itertools\n",
    "import pandas as pd\n",
    "\n",
    "# Your data lists\n",
    "black = [1, 11, 11, 11, 11, 11, 2, 1, 11, 1, 11, 11, 11, 11, 11, 11, 11, 11, 11, 11, 2, 1, 11, 11, 11, 1, 1, 1, 11, 11, 1, 11, 11, 1, 11, 11, 11, 11, 11, 1, 11, 11, 11, 11, 11, 11, 11, 1, 11, 11]\n",
    "white = [1, 11, 11, 11, 11, 11, 11, 11, 1, 11, 11, 11, 11, 11, 11, 11, 11, 11, 11, 11, 11, 11, 11, 11, 1, 1, 11, 11, 11, 11, 11, 11, 2, 11, 1, 11, 11, 1, 11, 11, 11, 2, 1, 11, 11, 1, 1, 11, 11, 1]\n",
    "hispanic = [11, 11, 11, 11, 11, 11, 11, 11, 11, 11, 11, 11, 11, 11, 11, 11, 11, 11, 11, 11, 11, 11, 11, 1, 11, 11, 11, 11, 11, 11, 11, 11, 2, 11, 11, 11, 11, 1, 11, 11, 11, 11, 11, 11, 11, 11, 11, 11, 11, 11]\n",
    "asian = [11, 2, 11, 1, 11, 11, 11, 11, 11, 11, 11, 11, 11, 11, 11, 2, 11, 1, 11, 11, 11, 4, 2, 11, 11, 2, 2, 11, 11, 11, 11, 11, 11, 11, 11, 11, 11, 11, 1, 11, 11, 11, 1, 1, 11, 1, 11, 11, 11, 1]\n",
    "\n",
    "# Dictionary of race names and their corresponding data lists\n",
    "races = {\n",
    "    \"Black\": black,\n",
    "    \"White\": white,\n",
    "    \"Hispanic\": hispanic,\n",
    "    \"Asian\": asian\n",
    "}\n",
    "\n",
    "# Function to perform Mann-Whitney U test\n",
    "def mann_whitney_test(group1, group2):\n",
    "    stat, p_value = mannwhitneyu(group1, group2, alternative='two-sided')\n",
    "    return p_value\n",
    "\n",
    "# Generate all possible pairs of races\n",
    "race_pairs = list(itertools.combinations(races.keys(), 2))\n",
    "\n",
    "# Perform Mann-Whitney U test for each pair and store results\n",
    "results = {}\n",
    "for pair in race_pairs:\n",
    "    race1, race2 = pair\n",
    "    p_value = mann_whitney_test(races[race1], races[race2])\n",
    "    results[f\"{race1} vs {race2}\"] = p_value\n",
    "\n",
    "# Create a DataFrame from the results\n",
    "df = pd.DataFrame.from_dict(results, orient='index', columns=['p-value'])\n",
    "\n",
    "# Display the results\n",
    "print(df)\n",
    "\n",
    "# Optionally, save to CSV\n",
    "df.to_csv('race_comparison_results.csv')\n"
   ]
  },
  {
   "cell_type": "code",
   "execution_count": 7,
   "id": "71a07391-cd31-496e-8658-8b71df2abb42",
   "metadata": {},
   "outputs": [
    {
     "name": "stdout",
     "output_type": "stream",
     "text": [
      "                    p-value\n",
      "Black vs White     0.368668\n",
      "Black vs Hispanic  0.002689\n",
      "Black vs Asian     0.025610\n",
      "White vs Hispanic  0.031331\n",
      "White vs Asian     0.178910\n",
      "Hispanic vs Asian  0.364226\n"
     ]
    }
   ],
   "source": [
    "import numpy as np\n",
    "from scipy.stats import mannwhitneyu\n",
    "import itertools\n",
    "import pandas as pd\n",
    "\n",
    "# Your data lists\n",
    "black = [11, 11, 11, 11, 11, 11, 11, 11, 11, 11, 11, 11, 5, 11, 11, 11, 11, 11, 11, 9, 11, 11, 11, 11, 6, 11, 11, 11, 4, 11, 11, 11, 11, 8, 11, 11, 11, 11, 11, 11, 11, 6, 11, 11, 11, 11, 11, 11, 11, 11]\n",
    "white = [11, 11, 11, 11, 11, 11, 11, 11, 11, 3, 3, 11, 11, 11, 11, 11, 11, 11, 11, 11, 11, 11, 11, 11, 11, 11, 5, 11, 11, 11, 11, 11, 11, 11, 11, 11, 4, 7, 11, 5, 11, 6, 11, 11, 11, 11, 11, 7, 11, 10]\n",
    "hispanic = [5, 11, 11, 3, 5, 11, 11, 11, 11, 5, 3, 2, 4, 6, 11, 11, 11, 11, 11, 11, 11, 11, 11, 4, 4, 11, 3, 11, 11, 11, 5, 11, 11, 8, 6, 9, 11, 11, 3, 11, 11, 11, 11, 11, 7, 11, 2, 11, 11, 11]\n",
    "asian = [11, 11, 5, 11, 11, 9, 11, 4, 11, 7, 10, 11, 11, 11, 2, 9, 11, 11, 9, 11, 11, 11, 3, 7, 5, 11, 4, 3, 11, 11, 11, 11, 7, 11, 11, 11, 11, 11, 11, 11, 11, 11, 11, 4, 11, 11, 11, 11, 11, 11]\n",
    "\n",
    "# Dictionary of race names and their corresponding data lists\n",
    "races = {\n",
    "    \"Black\": black,\n",
    "    \"White\": white,\n",
    "    \"Hispanic\": hispanic,\n",
    "    \"Asian\": asian\n",
    "}\n",
    "\n",
    "# Function to perform Mann-Whitney U test\n",
    "def mann_whitney_test(group1, group2):\n",
    "    stat, p_value = mannwhitneyu(group1, group2, alternative='two-sided')\n",
    "    return p_value\n",
    "\n",
    "# Generate all possible pairs of races\n",
    "race_pairs = list(itertools.combinations(races.keys(), 2))\n",
    "\n",
    "# Perform Mann-Whitney U test for each pair and store results\n",
    "results = {}\n",
    "for pair in race_pairs:\n",
    "    race1, race2 = pair\n",
    "    p_value = mann_whitney_test(races[race1], races[race2])\n",
    "    results[f\"{race1} vs {race2}\"] = p_value\n",
    "\n",
    "# Create a DataFrame from the results\n",
    "df = pd.DataFrame.from_dict(results, orient='index', columns=['p-value'])\n",
    "\n",
    "# Display the results\n",
    "print(df)\n",
    "\n",
    "# Optionally, save to CSV\n",
    "df.to_csv('race_comparison_results.csv')\n"
   ]
  },
  {
   "cell_type": "code",
   "execution_count": 13,
   "id": "cb6fadb4-556c-40c5-b8a6-d136cc84e871",
   "metadata": {},
   "outputs": [
    {
     "name": "stdout",
     "output_type": "stream",
     "text": [
      "U Statistic: 3876.0\n",
      "P-Value: 0.001440660192891214\n",
      "The difference is statistically significant.\n"
     ]
    }
   ],
   "source": [
    "import numpy as np\n",
    "from scipy.stats import mannwhitneyu\n",
    "\n",
    "# Data from the two columns\n",
    "column1 = [\n",
    "   11, 11, 11, 8, 11, 5, 11, 11, 11, 11, 11, 10, 11, 11, 11, 11, 5, 10, 7, 5, 6, 11, 11, 11, 11, 5, 9, 11, 10, 10, 11, 11, 8, 11, 11, 5, 5, 4, 10, 11, 7, 6, 11, 9, 11, 4, 11, 6, 11, 5, 4, 11, 5, 11, 11, 11, 10, 3, 11, 11, 11, 10, 4, 5, 11, 11, 11, 10, 10, 3, 11, 11, 6, 11, 11, 10, 11, 11, 9, 5, 10, 11, 9, 11, 9, 3, 11, 6, 11, 2, 11, 11, 10, 11, 11, 9, 10, 10, 11, 2\n",
    "]\n",
    "column2 = [\n",
    "    11, 11, 11, 11, 11, 11, 10, 11, 11, 11, 11, 8, 11, 11, 11, 11, 11, 11, 11, 11, 10, 11, 11, 8, 11, 3, 11, 5, 11, 11, 11, 5, 5, 11, 3, 10, 5, 11, 11, 11, 11, 11, 5, 11, 11, 11, 3, 11, 11, 11, 11, 11, 11, 3, 11, 11, 11, 11, 11, 11, 11, 11, 11, 11, 11, 11, 11, 4, 11, 11, 11, 11, 8, 7, 10, 11, 11, 11, 11, 4, 11, 9, 11, 11, 11, 8, 7, 11, 11, 10, 11, 11, 11, 11, 11, 10, 11, 10, 11, 11\n",
    "]\n",
    "\n",
    "# Running the Mann-Whitney U test\n",
    "stat, p_value = mannwhitneyu(column1, column2, alternative='two-sided')\n",
    "\n",
    "# Print the results\n",
    "print(f\"U Statistic: {stat}\")\n",
    "print(f\"P-Value: {p_value}\")\n",
    "\n",
    "# Interpretation\n",
    "if p_value < 0.05:\n",
    "    print(\"The difference is statistically significant.\")\n",
    "else:\n",
    "    print(\"The difference is not statistically significant.\")"
   ]
  },
  {
   "cell_type": "code",
   "execution_count": 15,
   "id": "4908ba8a-d5d9-4a64-9581-90d92a01a71d",
   "metadata": {},
   "outputs": [
    {
     "name": "stdout",
     "output_type": "stream",
     "text": [
      "                    p-value\n",
      "Black vs White     0.004215\n",
      "Black vs Hispanic  0.055025\n",
      "Black vs Asian     0.314555\n",
      "White vs Hispanic  0.576807\n",
      "White vs Asian     0.104166\n",
      "Hispanic vs Asian  0.364226\n"
     ]
    }
   ],
   "source": [
    "import numpy as np\n",
    "from scipy.stats import mannwhitneyu\n",
    "import itertools\n",
    "import pandas as pd\n",
    "\n",
    "# Your data lists\n",
    "black = [11, 11, 11, 11, 11, 11, 10, 11, 11, 11, 11, 8, 11, 11, 11, 11, 11, 11, 11, 11, 10, 11, 11, 8, 11, 11, 11, 11, 8, 11, 5, 11, 11, 11, 11, 11, 10, 11, 11, 11, 11, 5, 10, 7, 5, 6, 11, 11, 11, 11]\n",
    "white = [3, 11, 5, 11, 11, 11, 5, 5, 11, 3, 10, 5, 11, 11, 11, 11, 11, 5, 11, 11, 11, 3, 11, 11, 11, 5, 9, 11, 10, 10, 11, 11, 8, 11, 11, 5, 5, 4, 10, 11, 7, 6, 11, 9, 11, 4, 11, 6, 11, 5]\n",
    "hispanic = [5, 11, 11, 3, 5, 11, 11, 11, 11, 5, 3, 2, 4, 6, 11, 11, 11, 11, 11, 11, 11, 11, 11, 4, 4, 11, 3, 11, 11, 11, 5, 11, 11, 8, 6, 9, 11, 11, 3, 11, 11, 11, 11, 11, 7, 11, 2, 11, 11, 11]\n",
    "asian = [11, 11, 5, 11, 11, 9, 11, 4, 11, 7, 10, 11, 11, 11, 2, 9, 11, 11, 9, 11, 11, 11, 3, 7, 5, 11, 4, 3, 11, 11, 11, 11, 7, 11, 11, 11, 11, 11, 11, 11, 11, 11, 11, 4, 11, 11, 11, 11, 11, 11]\n",
    "\n",
    "# Dictionary of race names and their corresponding data lists\n",
    "races = {\n",
    "    \"Black\": black,\n",
    "    \"White\": white,\n",
    "    \"Hispanic\": hispanic,\n",
    "    \"Asian\": asian\n",
    "}\n",
    "\n",
    "# Function to perform Mann-Whitney U test\n",
    "def mann_whitney_test(group1, group2):\n",
    "    stat, p_value = mannwhitneyu(group1, group2, alternative='two-sided')\n",
    "    return p_value\n",
    "\n",
    "# Generate all possible pairs of races\n",
    "race_pairs = list(itertools.combinations(races.keys(), 2))\n",
    "\n",
    "# Perform Mann-Whitney U test for each pair and store results\n",
    "results = {}\n",
    "for pair in race_pairs:\n",
    "    race1, race2 = pair\n",
    "    p_value = mann_whitney_test(races[race1], races[race2])\n",
    "    results[f\"{race1} vs {race2}\"] = p_value\n",
    "\n",
    "# Create a DataFrame from the results\n",
    "df = pd.DataFrame.from_dict(results, orient='index', columns=['p-value'])\n",
    "\n",
    "# Display the results\n",
    "print(df)\n",
    "\n",
    "# Optionally, save to CSV\n",
    "df.to_csv('race_comparison_results.csv')\n"
   ]
  },
  {
   "cell_type": "code",
   "execution_count": null,
   "id": "83cec806-56dc-4151-bc1b-7ba785282ad6",
   "metadata": {},
   "outputs": [],
   "source": []
  }
 ],
 "metadata": {
  "kernelspec": {
   "display_name": "Python 3 (ipykernel)",
   "language": "python",
   "name": "python3"
  },
  "language_info": {
   "codemirror_mode": {
    "name": "ipython",
    "version": 3
   },
   "file_extension": ".py",
   "mimetype": "text/x-python",
   "name": "python",
   "nbconvert_exporter": "python",
   "pygments_lexer": "ipython3",
   "version": "3.12.7"
  }
 },
 "nbformat": 4,
 "nbformat_minor": 5
}
