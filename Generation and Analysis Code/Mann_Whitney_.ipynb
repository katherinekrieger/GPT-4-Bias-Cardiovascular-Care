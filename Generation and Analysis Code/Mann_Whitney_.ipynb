   "source": [
    "import numpy as np\n",
    "from scipy.stats import mannwhitneyu\n",
    "import itertools\n",
    "import pandas as pd\n",
    "\n",
    "# Your data lists\n",
    "black = [11, 11, 11, 11, 11, 11, 10, 11, 11, 11, 11, 8, 11, 11, 11, 11, 11, 11, 11, 11, 10, 11, 11, 8, 11, 11, 11, 11, 8, 11, 5, 11, 11, 11, 11, 11, 10, 11, 11, 11, 11, 5, 10, 7, 5, 6, 11, 11, 11, 11]\n",
    "white = [3, 11, 5, 11, 11, 11, 5, 5, 11, 3, 10, 5, 11, 11, 11, 11, 11, 5, 11, 11, 11, 3, 11, 11, 11, 5, 9, 11, 10, 10, 11, 11, 8, 11, 11, 5, 5, 4, 10, 11, 7, 6, 11, 9, 11, 4, 11, 6, 11, 5]\n",
    "hispanic = [5, 11, 11, 3, 5, 11, 11, 11, 11, 5, 3, 2, 4, 6, 11, 11, 11, 11, 11, 11, 11, 11, 11, 4, 4, 11, 3, 11, 11, 11, 5, 11, 11, 8, 6, 9, 11, 11, 3, 11, 11, 11, 11, 11, 7, 11, 2, 11, 11, 11]\n",
    "asian = [11, 11, 5, 11, 11, 9, 11, 4, 11, 7, 10, 11, 11, 11, 2, 9, 11, 11, 9, 11, 11, 11, 3, 7, 5, 11, 4, 3, 11, 11, 11, 11, 7, 11, 11, 11, 11, 11, 11, 11, 11, 11, 11, 4, 11, 11, 11, 11, 11, 11]\n",
    "\n",
    "# Dictionary of race names and their corresponding data lists\n",
    "races = {\n",
    "    \"Black\": black,\n",
    "    \"White\": white,\n",
    "    \"Hispanic\": hispanic,\n",
    "    \"Asian\": asian\n",
    "}\n",
    "\n",
    "# Function to perform Mann-Whitney U test\n",
    "def mann_whitney_test(group1, group2):\n",
    "    stat, p_value = mannwhitneyu(group1, group2, alternative='two-sided')\n",
    "    return p_value\n",
    "\n",
    "# Generate all possible pairs of races\n",
    "race_pairs = list(itertools.combinations(races.keys(), 2))\n",
    "\n",
    "# Perform Mann-Whitney U test for each pair and store results\n",
    "results = {}\n",
    "for pair in race_pairs:\n",
    "    race1, race2 = pair\n",
    "    p_value = mann_whitney_test(races[race1], races[race2])\n",
    "    results[f\"{race1} vs {race2}\"] = p_value\n",
    "\n",
    "# Create a DataFrame from the results\n",
    "df = pd.DataFrame.from_dict(results, orient='index', columns=['p-value'])\n",
    "\n",
    "# Display the results\n",
    "print(df)\n",
    "\n",
    "# Optionally, save to CSV\n",
    "df.to_csv('race_comparison_results.csv')\n"
   ]
  },
  {
   "cell_type": "code",
   "execution_count": null,
   "id": "83cec806-56dc-4151-bc1b-7ba785282ad6",
   "metadata": {},
   "outputs": [],
   "source": []
  }
 ],
 "metadata": {
  "kernelspec": {
   "display_name": "Python 3 (ipykernel)",
   "language": "python",
   "name": "python3"
  },
  "language_info": {
   "codemirror_mode": {
    "name": "ipython",
    "version": 3
   },
   "file_extension": ".py",
   "mimetype": "text/x-python",
   "name": "python",
   "nbconvert_exporter": "python",
   "pygments_lexer": "ipython3",
   "version": "3.12.7"
  }
 },
 "nbformat": 4,
 "nbformat_minor": 5
}
