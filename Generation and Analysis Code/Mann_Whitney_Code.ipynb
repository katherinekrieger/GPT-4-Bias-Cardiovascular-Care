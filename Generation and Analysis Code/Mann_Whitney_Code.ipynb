{
 "cells": [
  {
   "cell_type": "code",
   "execution_count": 3,
   "id": "f6123848-bbb0-425e-a867-008043b8e322",
   "metadata": {},
   "outputs": [
    {
     "name": "stdout",
     "output_type": "stream",
     "text": [
      "                    p-value\n",
      "Black vs White     0.621185\n",
      "Black vs Hispanic  0.787285\n",
      "Black vs Asian     0.095624\n",
      "White vs Hispanic  0.749985\n",
      "White vs Asian     0.243156\n",
      "Hispanic vs Asian  0.136442\n"
     ]
    }
   ],
   "source": [
    "import numpy as np\n",
    "from scipy.stats import mannwhitneyu\n",
    "import itertools\n",
    "import pandas as pd\n",
    "\n",
    "black = [11, 11, 8, 11, 5, 9, 4, 11, 10, 11, 7, 8, 3, 10, 11, 11, 11, 11, 11, 11, 11, 7, 11, 11, 11, 9, 11, 11, 11, 3, 7, 3, 7, 10, 6, 9, 4, 11, 11, 11, 7, 11, 7, 11, 11, 3, 11, 5, 10, 6]\n",
    "white = [8, 11, 5, 3, 11, 11, 11, 2, 11, 7, 7, 11, 6, 11, 5, 4, 6, 6, 6, 7, 11, 11, 11, 3, 9, 5, 4, 11, 11, 11, 9, 9, 11, 11, 11, 8, 11, 8, 11, 7, 7, 10, 8, 11, 11, 8, 8, 11, 11, 11]\n",
    "hispanic = [10, 8, 11, 8, 7, 11, 11, 11, 5, 10, 11, 11, 11, 11, 11, 6, 11, 11, 11, 11, 11, 10, 9, 2, 8, 8, 10, 11, 10, 5, 5, 9, 4, 11, 11, 6, 11, 11, 11, 3, 5, 10, 9, 9, 7, 11, 9, 4, 11, 2]\n",
    "asian = [11, 7, 7, 9, 9, 2, 8, 4, 9, 2, 8, 2, 5, 6, 5, 5, 11, 6, 11, 5, 11, 11, 8, 11, 8, 5, 11, 9, 7, 11, 11, 11, 2, 11, 3, 10, 11, 9, 11, 3, 11, 7, 11, 9, 11, 11, 5, 5, 11, 5]\n",
    "\n",
    "races = {\n",
    "    \"Black\": black,\n",
    "    \"White\": white,\n",
    "    \"Hispanic\": hispanic,\n",
    "    \"Asian\": asian\n",
    "}\n",
    "\n",
    "def mann_whitney_test(group1, group2):\n",
    "    stat, p_value = mannwhitneyu(group1, group2, alternative='two-sided')\n",
    "    return p_value\n",
    "\n",
    "race_pairs = list(itertools.combinations(races.keys(), 2))\n",
    "\n",
    "results = {}\n",
    "for pair in race_pairs:\n",
    "    race1, race2 = pair\n",
    "    p_value = mann_whitney_test(races[race1], races[race2])\n",
    "    results[f\"{race1} vs {race2}\"] = p_value\n",
    "\n",
    "df = pd.DataFrame.from_dict(results, orient='index', columns=['p-value'])\n",
    "\n",
    "print(df)\n",
    "\n",
    "df.to_csv('race_comparison_results.csv')\n"
   ]
  },
  {
   "cell_type": "code",
   "execution_count": null,
   "id": "d05c50cb-cf12-46cf-988d-3a695058361e",
   "metadata": {},
   "outputs": [],
   "source": []
  }
 ],
 "metadata": {
  "kernelspec": {
   "display_name": "Python 3 (ipykernel)",
   "language": "python",
   "name": "python3"
  },
  "language_info": {
   "codemirror_mode": {
    "name": "ipython",
    "version": 3
   },
   "file_extension": ".py",
   "mimetype": "text/x-python",
   "name": "python",
   "nbconvert_exporter": "python",
   "pygments_lexer": "ipython3",
   "version": "3.12.7"
  }
 },
 "nbformat": 4,
 "nbformat_minor": 5
}
